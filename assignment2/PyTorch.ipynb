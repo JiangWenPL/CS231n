{
  "nbformat": 4,
  "nbformat_minor": 0,
  "metadata": {
    "colab": {
      "name": "PyTorch.ipynb",
      "version": "0.3.2",
      "views": {},
      "default_view": {},
      "provenance": [],
      "collapsed_sections": []
    },
    "kernelspec": {
      "display_name": "Python 3",
      "language": "python",
      "name": "python3"
    },
    "accelerator": "GPU"
  },
  "cells": [
    {
      "metadata": {
        "id": "CUyed7A3lw4p",
        "colab_type": "text"
      },
      "cell_type": "markdown",
      "source": [
        "# Training a ConvNet PyTorch\n",
        "\n",
        "In this notebook, you'll learn how to use the powerful PyTorch framework to specify a conv net architecture and train it on the CIFAR-10 dataset."
      ]
    },
    {
      "metadata": {
        "id": "8bdlrFu8l6Sp",
        "colab_type": "code",
        "colab": {
          "autoexec": {
            "startup": false,
            "wait_interval": 0
          }
        }
      },
      "cell_type": "code",
      "source": [
        "# http://pytorch.org/\n",
        "from os import path\n",
        "from wheel.pep425tags import get_abbr_impl, get_impl_ver, get_abi_tag\n",
        "platform = '{}{}-{}'.format(get_abbr_impl(), get_impl_ver(), get_abi_tag())\n",
        "\n",
        "accelerator = 'cu80' if path.exists('/opt/bin/nvidia-smi') else 'cpu'\n",
        "\n",
        "!pip install -q http://download.pytorch.org/whl/{accelerator}/torch-0.3.0.post4-{platform}-linux_x86_64.whl torchvision\n",
        "import torch"
      ],
      "execution_count": 0,
      "outputs": []
    },
    {
      "metadata": {
        "id": "bTIhB2m8lw4t",
        "colab_type": "code",
        "colab": {
          "autoexec": {
            "startup": false,
            "wait_interval": 0
          }
        }
      },
      "cell_type": "code",
      "source": [
        "import torch\n",
        "import torch.nn as nn\n",
        "import torch.optim as optim\n",
        "from torch.autograd import Variable\n",
        "from torch.utils.data import DataLoader\n",
        "from torch.utils.data import sampler\n",
        "\n",
        "import torchvision.datasets as dset\n",
        "import torchvision.transforms as T\n",
        "\n",
        "import numpy as np\n",
        "\n",
        "import timeit"
      ],
      "execution_count": 0,
      "outputs": []
    },
    {
      "metadata": {
        "id": "tBnXbFGKlw44",
        "colab_type": "text"
      },
      "cell_type": "markdown",
      "source": [
        "## What's this PyTorch business?\n",
        "\n",
        "You've written a lot of code in this assignment to provide a whole host of neural network functionality. Dropout, Batch Norm, and 2D convolutions are some of the workhorses of deep learning in computer vision. You've also worked hard to make your code efficient and vectorized.\n",
        "\n",
        "For the last part of this assignment, though, we're going to leave behind your beautiful codebase and instead migrate to one of two popular deep learning frameworks: in this instance, PyTorch (or TensorFlow, if you switch over to that notebook). \n",
        "\n",
        "Why?\n",
        "\n",
        "* Our code will now run on GPUs! Much faster training. When using a framework like PyTorch or TensorFlow you can harness the power of the GPU for your own custom neural network architectures without having to write CUDA code directly (which is beyond the scope of this class).\n",
        "* We want you to be ready to use one of these frameworks for your project so you can experiment more efficiently than if you were writing every feature you want to use by hand. \n",
        "* We want you to stand on the shoulders of giants! TensorFlow and PyTorch are both excellent frameworks that will make your lives a lot easier, and now that you understand their guts, you are free to use them :) \n",
        "* We want you to be exposed to the sort of deep learning code you might run into in academia or industry. "
      ]
    },
    {
      "metadata": {
        "id": "u1s_ch-8lw46",
        "colab_type": "text"
      },
      "cell_type": "markdown",
      "source": [
        "## How will I learn PyTorch?\n",
        "\n",
        "If you've used Torch before, but are new to PyTorch, this tutorial might be of use: http://pytorch.org/tutorials/beginner/former_torchies_tutorial.html\n",
        "\n",
        "Otherwise, this notebook will walk you through much of what you need to do to train models in Torch. See the end of the notebook for some links to helpful tutorials if you want to learn more or need further clarification on topics that aren't fully explained here."
      ]
    },
    {
      "metadata": {
        "id": "l_GPzCEVlw49",
        "colab_type": "text"
      },
      "cell_type": "markdown",
      "source": [
        "## Load Datasets\n",
        "\n",
        "We load the CIFAR-10 dataset. This might take a couple minutes the first time you do it, but the files should stay cached after that."
      ]
    },
    {
      "metadata": {
        "id": "_kK9aFu7lw5A",
        "colab_type": "code",
        "colab": {
          "autoexec": {
            "startup": false,
            "wait_interval": 0
          },
          "base_uri": "https://localhost:8080/",
          "height": 68
        },
        "outputId": "df9ac0de-3225-4389-8a87-8e001a1823bb",
        "executionInfo": {
          "status": "ok",
          "timestamp": 1525328310069,
          "user_tz": -480,
          "elapsed": 23368,
          "user": {
            "displayName": "wen jiang",
            "photoUrl": "//lh3.googleusercontent.com/--ejERN2rgiw/AAAAAAAAAAI/AAAAAAAAAAs/nzh7g1WQ598/s50-c-k-no/photo.jpg",
            "userId": "115214062481391787575"
          }
        }
      },
      "cell_type": "code",
      "source": [
        "class ChunkSampler(sampler.Sampler):\n",
        "    \"\"\"Samples elements sequentially from some offset. \n",
        "    Arguments:\n",
        "        num_samples: # of desired datapoints\n",
        "        start: offset where we should start selecting from\n",
        "    \"\"\"\n",
        "    def __init__(self, num_samples, start = 0):\n",
        "        self.num_samples = num_samples\n",
        "        self.start = start\n",
        "\n",
        "    def __iter__(self):\n",
        "        return iter(range(self.start, self.start + self.num_samples))\n",
        "\n",
        "    def __len__(self):\n",
        "        return self.num_samples\n",
        "\n",
        "NUM_TRAIN = 49000\n",
        "NUM_VAL = 1000\n",
        "\n",
        "cifar10_train = dset.CIFAR10('./cs231n/datasets', train=True, download=True,\n",
        "                           transform=T.ToTensor())\n",
        "loader_train = DataLoader(cifar10_train, batch_size=64, sampler=ChunkSampler(NUM_TRAIN, 0))\n",
        "\n",
        "cifar10_val = dset.CIFAR10('./cs231n/datasets', train=True, download=True,\n",
        "                           transform=T.ToTensor())\n",
        "loader_val = DataLoader(cifar10_val, batch_size=64, sampler=ChunkSampler(NUM_VAL, NUM_TRAIN))\n",
        "\n",
        "cifar10_test = dset.CIFAR10('./cs231n/datasets', train=False, download=True,\n",
        "                          transform=T.ToTensor())\n",
        "loader_test = DataLoader(cifar10_test, batch_size=64)\n"
      ],
      "execution_count": 5,
      "outputs": [
        {
          "output_type": "stream",
          "text": [
            "Downloading https://www.cs.toronto.edu/~kriz/cifar-10-python.tar.gz to ./cs231n/datasets/cifar-10-python.tar.gz\n",
            "Files already downloaded and verified\n",
            "Files already downloaded and verified\n"
          ],
          "name": "stdout"
        }
      ]
    },
    {
      "metadata": {
        "id": "DinNvluAlw5G",
        "colab_type": "text"
      },
      "cell_type": "markdown",
      "source": [
        "For now, we're going to use a CPU-friendly datatype. Later, we'll switch to a datatype that will move all our computations to the GPU and measure the speedup."
      ]
    },
    {
      "metadata": {
        "id": "bbtpKQTzlw5H",
        "colab_type": "code",
        "colab": {
          "autoexec": {
            "startup": false,
            "wait_interval": 0
          }
        }
      },
      "cell_type": "code",
      "source": [
        "dtype = torch.FloatTensor # the CPU datatype\n",
        "\n",
        "# Constant to control how frequently we print train loss\n",
        "print_every = 100\n",
        "\n",
        "# This is a little utility that we'll use to reset the model\n",
        "# if we want to re-initialize all our parameters\n",
        "def reset(m):\n",
        "    if hasattr(m, 'reset_parameters'):\n",
        "        m.reset_parameters()"
      ],
      "execution_count": 0,
      "outputs": []
    },
    {
      "metadata": {
        "id": "L0NwsFK5lw5M",
        "colab_type": "text"
      },
      "cell_type": "markdown",
      "source": [
        "## Example Model\n",
        "\n",
        "### Some assorted tidbits\n",
        "\n",
        "Let's start by looking at a simple model. First, note that PyTorch operates on Tensors, which are n-dimensional arrays functionally analogous to numpy's ndarrays, with the additional feature that they can be used for computations on GPUs.\n",
        "\n",
        "We'll provide you with a Flatten function, which we explain here. Remember that our image data (and more relevantly, our intermediate feature maps) are initially N x C x H x W, where:\n",
        "* N is the number of datapoints\n",
        "* C is the number of channels\n",
        "* H is the height of the intermediate feature map in pixels\n",
        "* W is the height of the intermediate feature map in pixels\n",
        "\n",
        "This is the right way to represent the data when we are doing something like a 2D convolution, that needs spatial understanding of where the intermediate features are relative to each other. When we input  data into fully connected affine layers, however, we want each datapoint to be represented by a single vector -- it's no longer useful to segregate the different channels, rows, and columns of the data. So, we use a \"Flatten\" operation to collapse the C x H x W values per representation into a single long vector. The Flatten function below first reads in the N, C, H, and W values from a given batch of data, and then returns a \"view\" of that data. \"View\" is analogous to numpy's \"reshape\" method: it reshapes x's dimensions to be N x ??, where ?? is allowed to be anything (in this case, it will be C x H x W, but we don't need to specify that explicitly). "
      ]
    },
    {
      "metadata": {
        "id": "nv9OqMuilw5O",
        "colab_type": "code",
        "colab": {
          "autoexec": {
            "startup": false,
            "wait_interval": 0
          }
        }
      },
      "cell_type": "code",
      "source": [
        "class Flatten(nn.Module):\n",
        "    def forward(self, x):\n",
        "        N, C, H, W = x.size() # read in N, C, H, W\n",
        "        return x.view(N, -1)  # \"flatten\" the C * H * W values into a single vector per image"
      ],
      "execution_count": 0,
      "outputs": []
    },
    {
      "metadata": {
        "id": "LAoKM5dwlw5T",
        "colab_type": "text"
      },
      "cell_type": "markdown",
      "source": [
        "### The example model itself\n",
        "\n",
        "The first step to training your own model is defining its architecture.\n",
        "\n",
        "Here's an example of a convolutional neural network defined in PyTorch -- try to understand what each line is doing, remembering that each layer is composed upon the previous layer. We haven't trained anything yet - that'll come next - for now, we want you to understand how everything gets set up.  nn.Sequential is a container which applies each layer\n",
        "one after the other.\n",
        "\n",
        "In that example, you see 2D convolutional layers (Conv2d), ReLU activations, and fully-connected layers (Linear). You also see the Cross-Entropy loss function, and the Adam optimizer being used. \n",
        "\n",
        "Make sure you understand why the parameters of the Linear layer are 5408 and 10.\n"
      ]
    },
    {
      "metadata": {
        "id": "C8G_m0UMlw5U",
        "colab_type": "code",
        "colab": {
          "autoexec": {
            "startup": false,
            "wait_interval": 0
          }
        }
      },
      "cell_type": "code",
      "source": [
        "# Here's where we define the architecture of the model... \n",
        "simple_model = nn.Sequential(\n",
        "                nn.Conv2d(3, 32, kernel_size=7, stride=2),\n",
        "                nn.ReLU(inplace=True),\n",
        "                Flatten(), # see above for explanation\n",
        "                nn.Linear(5408, 10), # affine layer\n",
        "              )\n",
        "\n",
        "# Set the type of all data in this model to be FloatTensor \n",
        "simple_model.type(dtype)\n",
        "\n",
        "loss_fn = nn.CrossEntropyLoss().type(dtype)\n",
        "optimizer = optim.Adam(simple_model.parameters(), lr=1e-2) # lr sets the learning rate of the optimizer"
      ],
      "execution_count": 0,
      "outputs": []
    },
    {
      "metadata": {
        "id": "4cGJdsJGlw5Y",
        "colab_type": "text"
      },
      "cell_type": "markdown",
      "source": [
        "PyTorch supports many other layer types, loss functions, and optimizers - you will experiment with these next. Here's the official API documentation for these (if any of the parameters used above were unclear, this resource will also be helpful). One note: what we call in the class \"spatial batch norm\" is called \"BatchNorm2D\" in PyTorch.\n",
        "\n",
        "* Layers: http://pytorch.org/docs/nn.html\n",
        "* Activations: http://pytorch.org/docs/nn.html#non-linear-activations\n",
        "* Loss functions: http://pytorch.org/docs/nn.html#loss-functions\n",
        "* Optimizers: http://pytorch.org/docs/optim.html#algorithms"
      ]
    },
    {
      "metadata": {
        "id": "Kfl73oaElw5Z",
        "colab_type": "text"
      },
      "cell_type": "markdown",
      "source": [
        "## Training a specific model\n",
        "\n",
        "In this section, we're going to specify a model for you to construct. The goal here isn't to get good performance (that'll be next), but instead to get comfortable with understanding the PyTorch documentation and configuring your own model. \n",
        "\n",
        "Using the code provided above as guidance, and using the following PyTorch documentation, specify a model with the following architecture:\n",
        "\n",
        "* 7x7 Convolutional Layer with 32 filters and stride of 1\n",
        "* ReLU Activation Layer\n",
        "* Spatial Batch Normalization Layer\n",
        "* 2x2 Max Pooling layer with a stride of 2\n",
        "* Affine layer with 1024 output units\n",
        "* ReLU Activation Layer\n",
        "* Affine layer from 1024 input units to 10 outputs\n",
        "\n",
        "And finally, set up a **cross-entropy** loss function and the **RMSprop** learning rule."
      ]
    },
    {
      "metadata": {
        "id": "yzwhNSSYlw5a",
        "colab_type": "code",
        "colab": {
          "autoexec": {
            "startup": false,
            "wait_interval": 0
          }
        }
      },
      "cell_type": "code",
      "source": [
        "fixed_model_base = nn.Sequential( # You fill this in!\n",
        "    nn.Conv2d(3, 32, kernel_size=7, stride=1),\n",
        "    nn.ReLU(inplace=True),\n",
        "    nn.BatchNorm2d(32, eps=1e-05, momentum=0.1, affine=True),\n",
        "    nn.MaxPool2d(kernel_size=2, stride=2),\n",
        "    Flatten(),\n",
        "    nn.Linear(13*13*32, 1024),\n",
        "    nn.ReLU(inplace=True),\n",
        "    nn.Linear(1024, 10)\n",
        "            )\n",
        "\n",
        "fixed_model = fixed_model_base.type(dtype)"
      ],
      "execution_count": 0,
      "outputs": []
    },
    {
      "metadata": {
        "id": "EU9Atvh7lw5e",
        "colab_type": "text"
      },
      "cell_type": "markdown",
      "source": [
        "To make sure you're doing the right thing, use the following tool to check the dimensionality of your output (it should be 64 x 10, since our batches have size 64 and the output of the final affine layer should be 10, corresponding to our 10 classes):"
      ]
    },
    {
      "metadata": {
        "id": "mEfImq2hlw5f",
        "colab_type": "code",
        "colab": {
          "autoexec": {
            "startup": false,
            "wait_interval": 0
          },
          "base_uri": "https://localhost:8080/",
          "height": 34
        },
        "outputId": "e5a032cc-54d4-446c-aa41-ff26d8584740",
        "executionInfo": {
          "status": "ok",
          "timestamp": 1525313975249,
          "user_tz": -480,
          "elapsed": 978,
          "user": {
            "displayName": "wen jiang",
            "photoUrl": "//lh3.googleusercontent.com/--ejERN2rgiw/AAAAAAAAAAI/AAAAAAAAAAs/nzh7g1WQ598/s50-c-k-no/photo.jpg",
            "userId": "115214062481391787575"
          }
        }
      },
      "cell_type": "code",
      "source": [
        "## Now we're going to feed a random batch into the model you defined and make sure the output is the right size\n",
        "x = torch.randn(64, 3, 32, 32).type(dtype)\n",
        "x_var = Variable(x.type(dtype)) # Construct a PyTorch Variable out of your input data\n",
        "ans = fixed_model(x_var)        # Feed it through the model! \n",
        "\n",
        "# Check to make sure what comes out of your model\n",
        "# is the right dimensionality... this should be True\n",
        "# if you've done everything correctly\n",
        "np.array_equal(np.array(ans.size()), np.array([64, 10]))       "
      ],
      "execution_count": 14,
      "outputs": [
        {
          "output_type": "execute_result",
          "data": {
            "text/plain": [
              "True"
            ]
          },
          "metadata": {
            "tags": []
          },
          "execution_count": 14
        }
      ]
    },
    {
      "metadata": {
        "id": "IyvTIFFYlw5i",
        "colab_type": "text"
      },
      "cell_type": "markdown",
      "source": [
        "### GPU!\n",
        "\n",
        "Now, we're going to switch the dtype of the model and our data to the GPU-friendly tensors, and see what happens... everything is the same, except we are casting our model and input tensors as this new dtype instead of the old one.\n",
        "\n",
        "If this returns false, or otherwise fails in a not-graceful way (i.e., with some error message), you may not have an NVIDIA GPU available on your machine. If you're running locally, we recommend you switch to Google Cloud and follow the instructions to set up a GPU there. If you're already on Google Cloud, something is wrong -- make sure you followed the instructions on how to request and use a GPU on your instance. If you did, post on Piazza or come to Office Hours so we can help you debug."
      ]
    },
    {
      "metadata": {
        "id": "ybNzmDxHlw5j",
        "colab_type": "code",
        "colab": {
          "autoexec": {
            "startup": false,
            "wait_interval": 0
          },
          "base_uri": "https://localhost:8080/",
          "height": 34
        },
        "outputId": "0e8a4790-2029-45cd-83e9-27a5962547d1",
        "executionInfo": {
          "status": "ok",
          "timestamp": 1525313994583,
          "user_tz": -480,
          "elapsed": 997,
          "user": {
            "displayName": "wen jiang",
            "photoUrl": "//lh3.googleusercontent.com/--ejERN2rgiw/AAAAAAAAAAI/AAAAAAAAAAs/nzh7g1WQ598/s50-c-k-no/photo.jpg",
            "userId": "115214062481391787575"
          }
        }
      },
      "cell_type": "code",
      "source": [
        "# Verify that CUDA is properly configured and you have a GPU available\n",
        "\n",
        "torch.cuda.is_available()"
      ],
      "execution_count": 15,
      "outputs": [
        {
          "output_type": "execute_result",
          "data": {
            "text/plain": [
              "True"
            ]
          },
          "metadata": {
            "tags": []
          },
          "execution_count": 15
        }
      ]
    },
    {
      "metadata": {
        "id": "HYj2rc2Nlw5n",
        "colab_type": "code",
        "colab": {
          "autoexec": {
            "startup": false,
            "wait_interval": 0
          },
          "base_uri": "https://localhost:8080/",
          "height": 34
        },
        "outputId": "dc6bb9cf-88b0-4755-9e78-27f24424cee3",
        "executionInfo": {
          "status": "ok",
          "timestamp": 1525314002124,
          "user_tz": -480,
          "elapsed": 4880,
          "user": {
            "displayName": "wen jiang",
            "photoUrl": "//lh3.googleusercontent.com/--ejERN2rgiw/AAAAAAAAAAI/AAAAAAAAAAs/nzh7g1WQ598/s50-c-k-no/photo.jpg",
            "userId": "115214062481391787575"
          }
        }
      },
      "cell_type": "code",
      "source": [
        "import copy\n",
        "gpu_dtype = torch.cuda.FloatTensor\n",
        "\n",
        "fixed_model_gpu = copy.deepcopy(fixed_model_base).type(gpu_dtype)\n",
        "\n",
        "x_gpu = torch.randn(64, 3, 32, 32).type(gpu_dtype)\n",
        "x_var_gpu = Variable(x.type(gpu_dtype)) # Construct a PyTorch Variable out of your input data\n",
        "ans = fixed_model_gpu(x_var_gpu)        # Feed it through the model! \n",
        "\n",
        "# Check to make sure what comes out of your model\n",
        "# is the right dimensionality... this should be True\n",
        "# if you've done everything correctly\n",
        "np.array_equal(np.array(ans.size()), np.array([64, 10]))"
      ],
      "execution_count": 16,
      "outputs": [
        {
          "output_type": "execute_result",
          "data": {
            "text/plain": [
              "True"
            ]
          },
          "metadata": {
            "tags": []
          },
          "execution_count": 16
        }
      ]
    },
    {
      "metadata": {
        "id": "W6Kgu4m9lw5p",
        "colab_type": "text"
      },
      "cell_type": "markdown",
      "source": [
        "Run the following cell to evaluate the performance of the forward pass running on the CPU:"
      ]
    },
    {
      "metadata": {
        "id": "cYUmFl0alw5p",
        "colab_type": "code",
        "colab": {
          "autoexec": {
            "startup": false,
            "wait_interval": 0
          },
          "base_uri": "https://localhost:8080/",
          "height": 34
        },
        "outputId": "a3b2c496-8098-4e0e-a51d-e8f9cae678ed",
        "executionInfo": {
          "status": "ok",
          "timestamp": 1525314009817,
          "user_tz": -480,
          "elapsed": 3259,
          "user": {
            "displayName": "wen jiang",
            "photoUrl": "//lh3.googleusercontent.com/--ejERN2rgiw/AAAAAAAAAAI/AAAAAAAAAAs/nzh7g1WQ598/s50-c-k-no/photo.jpg",
            "userId": "115214062481391787575"
          }
        }
      },
      "cell_type": "code",
      "source": [
        "%%timeit \n",
        "ans = fixed_model(x_var)"
      ],
      "execution_count": 17,
      "outputs": [
        {
          "output_type": "stream",
          "text": [
            "10 loops, best of 3: 54.4 ms per loop\n"
          ],
          "name": "stdout"
        }
      ]
    },
    {
      "metadata": {
        "id": "6fsA7X6dlw5s",
        "colab_type": "text"
      },
      "cell_type": "markdown",
      "source": [
        "... and now the GPU:"
      ]
    },
    {
      "metadata": {
        "id": "X6gI-GsQlw5s",
        "colab_type": "code",
        "colab": {
          "autoexec": {
            "startup": false,
            "wait_interval": 0
          },
          "base_uri": "https://localhost:8080/",
          "height": 34
        },
        "outputId": "68dc07d6-e276-4e15-f8d2-032849f274fb",
        "executionInfo": {
          "status": "ok",
          "timestamp": 1525314016553,
          "user_tz": -480,
          "elapsed": 1925,
          "user": {
            "displayName": "wen jiang",
            "photoUrl": "//lh3.googleusercontent.com/--ejERN2rgiw/AAAAAAAAAAI/AAAAAAAAAAs/nzh7g1WQ598/s50-c-k-no/photo.jpg",
            "userId": "115214062481391787575"
          }
        }
      },
      "cell_type": "code",
      "source": [
        "%%timeit \n",
        "torch.cuda.synchronize() # Make sure there are no pending GPU computations\n",
        "ans = fixed_model_gpu(x_var_gpu)        # Feed it through the model! \n",
        "torch.cuda.synchronize() # Make sure there are no pending GPU computations"
      ],
      "execution_count": 18,
      "outputs": [
        {
          "output_type": "stream",
          "text": [
            "100 loops, best of 3: 1.98 ms per loop\n"
          ],
          "name": "stdout"
        }
      ]
    },
    {
      "metadata": {
        "id": "0_DeNPNilw5x",
        "colab_type": "text"
      },
      "cell_type": "markdown",
      "source": [
        "You should observe that even a simple forward pass like this is significantly faster on the GPU. So for the rest of the assignment (and when you go train your models in assignment 3 and your project!), you should use the GPU datatype for your model and your tensors: as a reminder that is *torch.cuda.FloatTensor* (in our notebook here as *gpu_dtype*)"
      ]
    },
    {
      "metadata": {
        "id": "I8G6Aehdlw5y",
        "colab_type": "text"
      },
      "cell_type": "markdown",
      "source": [
        "### Train the model.\n",
        "\n",
        "Now that you've seen how to define a model and do a single forward pass of some data through it, let's  walk through how you'd actually train one whole epoch over your training data (using the simple_model we provided above).\n",
        "\n",
        "Make sure you understand how each PyTorch function used below corresponds to what you implemented in your custom neural network implementation.\n",
        "\n",
        "Note that because we are not resetting the weights anywhere below, if you run the cell multiple times, you are effectively training multiple epochs (so your performance should improve).\n",
        "\n",
        "First, set up an RMSprop optimizer (using a 1e-3 learning rate) and a cross-entropy loss function:"
      ]
    },
    {
      "metadata": {
        "id": "S1aWN6KElw5z",
        "colab_type": "code",
        "colab": {
          "autoexec": {
            "startup": false,
            "wait_interval": 0
          }
        }
      },
      "cell_type": "code",
      "source": [
        "loss_fn = None\n",
        "optimizer = None\n",
        "loss_fn = nn.CrossEntropyLoss()\n",
        "optimizer = optim.RMSprop(fixed_model_gpu.parameters(), lr=1e-3)"
      ],
      "execution_count": 0,
      "outputs": []
    },
    {
      "metadata": {
        "id": "ss3hbB4Ilw51",
        "colab_type": "code",
        "colab": {
          "autoexec": {
            "startup": false,
            "wait_interval": 0
          },
          "base_uri": "https://localhost:8080/",
          "height": 136
        },
        "outputId": "89f568c9-7c8f-4d94-804b-68dec805481c",
        "executionInfo": {
          "status": "ok",
          "timestamp": 1525315010441,
          "user_tz": -480,
          "elapsed": 9695,
          "user": {
            "displayName": "wen jiang",
            "photoUrl": "//lh3.googleusercontent.com/--ejERN2rgiw/AAAAAAAAAAI/AAAAAAAAAAs/nzh7g1WQ598/s50-c-k-no/photo.jpg",
            "userId": "115214062481391787575"
          }
        }
      },
      "cell_type": "code",
      "source": [
        "# This sets the model in \"training\" mode. This is relevant for some layers that may have different behavior\n",
        "# in training mode vs testing mode, such as Dropout and BatchNorm. \n",
        "fixed_model_gpu.train()\n",
        "\n",
        "# Load one batch at a time.\n",
        "for t, (x, y) in enumerate(loader_train):\n",
        "    x_var = Variable(x.type(gpu_dtype))\n",
        "    y_var = Variable(y.type(gpu_dtype).long())\n",
        "\n",
        "    # This is the forward pass: predict the scores for each class, for each x in the batch.\n",
        "    scores = fixed_model_gpu(x_var)\n",
        "    \n",
        "    # Use the correct y values and the predicted y values to compute the loss.\n",
        "    loss = loss_fn(scores, y_var)\n",
        "    \n",
        "    if (t + 1) % print_every == 0:\n",
        "        print('t = %d, loss = %.4f' % (t + 1, loss.data[0]))\n",
        "\n",
        "    # Zero out all of the gradients for the variables which the optimizer will update.\n",
        "    optimizer.zero_grad()\n",
        "    \n",
        "    # This is the backwards pass: compute the gradient of the loss with respect to each \n",
        "    # parameter of the model.\n",
        "    loss.backward()\n",
        "    \n",
        "    # Actually update the parameters of the model using the gradients computed by the backwards pass.\n",
        "    optimizer.step()"
      ],
      "execution_count": 23,
      "outputs": [
        {
          "output_type": "stream",
          "text": [
            "t = 100, loss = 1.3777\n",
            "t = 200, loss = 1.5288\n",
            "t = 300, loss = 1.3960\n",
            "t = 400, loss = 1.2669\n",
            "t = 500, loss = 1.1535\n",
            "t = 600, loss = 1.3194\n",
            "t = 700, loss = 1.1698\n"
          ],
          "name": "stdout"
        }
      ]
    },
    {
      "metadata": {
        "id": "Wn4w58lSlw54",
        "colab_type": "text"
      },
      "cell_type": "markdown",
      "source": [
        "Now you've seen how the training process works in PyTorch. To save you writing boilerplate code, we're providing the following helper functions to help you train for multiple epochs and check the accuracy of your model:"
      ]
    },
    {
      "metadata": {
        "id": "NW6jzI8Plw55",
        "colab_type": "code",
        "colab": {
          "autoexec": {
            "startup": false,
            "wait_interval": 0
          }
        }
      },
      "cell_type": "code",
      "source": [
        "def train(model, loss_fn, optimizer, num_epochs = 1):\n",
        "    for epoch in range(num_epochs):\n",
        "        print('Starting epoch %d / %d' % (epoch + 1, num_epochs))\n",
        "        model.train()\n",
        "        for t, (x, y) in enumerate(loader_train):\n",
        "            x_var = Variable(x.type(gpu_dtype))\n",
        "            y_var = Variable(y.type(gpu_dtype).long())\n",
        "\n",
        "            scores = model(x_var)\n",
        "            \n",
        "            loss = loss_fn(scores, y_var)\n",
        "            if (t + 1) % print_every == 0:\n",
        "                print('t = %d, loss = %.4f' % (t + 1, loss.data[0]))\n",
        "\n",
        "            optimizer.zero_grad()\n",
        "            loss.backward()\n",
        "            optimizer.step()\n",
        "\n",
        "def check_accuracy(model, loader):\n",
        "    if loader.dataset.train:\n",
        "        print('Checking accuracy on validation set')\n",
        "    else:\n",
        "        print('Checking accuracy on test set')   \n",
        "    num_correct = 0\n",
        "    num_samples = 0\n",
        "    model.eval() # Put the model in test mode (the opposite of model.train(), essentially)\n",
        "    for x, y in loader:\n",
        "        x_var = Variable(x.type(gpu_dtype), volatile=True)\n",
        "\n",
        "        scores = model(x_var)\n",
        "        _, preds = scores.data.cpu().max(1)\n",
        "        num_correct += (preds == y).sum()\n",
        "        num_samples += preds.size(0)\n",
        "    acc = float(num_correct) / num_samples\n",
        "    print('Got %d / %d correct (%.2f)' % (num_correct, num_samples, 100 * acc))\n",
        "    return acc"
      ],
      "execution_count": 0,
      "outputs": []
    },
    {
      "metadata": {
        "id": "y-5gJH92lw5-",
        "colab_type": "text"
      },
      "cell_type": "markdown",
      "source": [
        "### Check the accuracy of the model.\n",
        "\n",
        "Let's see the train and check_accuracy code in action -- feel free to use these methods when evaluating the models you develop below.\n",
        "\n",
        "You should get a training loss of around 1.2-1.4, and a validation accuracy of around 50-60%. As mentioned above, if you re-run the cells, you'll be training more epochs, so your performance will improve past these numbers.\n",
        "\n",
        "But don't worry about getting these numbers better -- this was just practice before you tackle designing your own model."
      ]
    },
    {
      "metadata": {
        "id": "MzP6QVPglw6A",
        "colab_type": "code",
        "colab": {
          "autoexec": {
            "startup": false,
            "wait_interval": 0
          },
          "base_uri": "https://localhost:8080/",
          "height": 187
        },
        "outputId": "8a231a9d-43ba-4e43-833a-51fc4e85c1f8",
        "executionInfo": {
          "status": "ok",
          "timestamp": 1525315221549,
          "user_tz": -480,
          "elapsed": 9996,
          "user": {
            "displayName": "wen jiang",
            "photoUrl": "//lh3.googleusercontent.com/--ejERN2rgiw/AAAAAAAAAAI/AAAAAAAAAAs/nzh7g1WQ598/s50-c-k-no/photo.jpg",
            "userId": "115214062481391787575"
          }
        }
      },
      "cell_type": "code",
      "source": [
        "torch.cuda.random.manual_seed(12345)\n",
        "fixed_model_gpu.apply(reset)\n",
        "train(fixed_model_gpu, loss_fn, optimizer, num_epochs=1)\n",
        "check_accuracy(fixed_model_gpu, loader_val)"
      ],
      "execution_count": 25,
      "outputs": [
        {
          "output_type": "stream",
          "text": [
            "Starting epoch 1 / 1\n",
            "t = 100, loss = 1.4065\n",
            "t = 200, loss = 1.5436\n",
            "t = 300, loss = 1.3180\n",
            "t = 400, loss = 1.1970\n",
            "t = 500, loss = 1.2726\n",
            "t = 600, loss = 1.3883\n",
            "t = 700, loss = 1.1552\n",
            "Checking accuracy on validation set\n",
            "Got 588 / 1000 correct (58.80)\n"
          ],
          "name": "stdout"
        }
      ]
    },
    {
      "metadata": {
        "id": "hPj7Xf-plw6F",
        "colab_type": "text"
      },
      "cell_type": "markdown",
      "source": [
        "### Don't forget the validation set!\n",
        "\n",
        "And note that you can use the check_accuracy function to evaluate on either the test set or the validation set, by passing either **loader_test** or **loader_val** as the second argument to check_accuracy. You should not touch the test set until you have finished your architecture and hyperparameter tuning, and only run the test set once at the end to report a final value. "
      ]
    },
    {
      "metadata": {
        "id": "sjWfjD6qlw6H",
        "colab_type": "text"
      },
      "cell_type": "markdown",
      "source": [
        "## Train a _great_ model on CIFAR-10!\n",
        "\n",
        "Now it's your job to experiment with architectures, hyperparameters, loss functions, and optimizers to train a model that achieves **>=70%** accuracy on the CIFAR-10 **validation** set. You can use the check_accuracy and train functions from above."
      ]
    },
    {
      "metadata": {
        "id": "mCyoYHehlw6J",
        "colab_type": "text"
      },
      "cell_type": "markdown",
      "source": [
        "### Things you should try:\n",
        "- **Filter size**: Above we used 7x7; this makes pretty pictures but smaller filters may be more efficient\n",
        "- **Number of filters**: Above we used 32 filters. Do more or fewer do better?\n",
        "- **Pooling vs Strided Convolution**: Do you use max pooling or just stride convolutions?\n",
        "- **Batch normalization**: Try adding spatial batch normalization after convolution layers and vanilla batch normalization after affine layers. Do your networks train faster?\n",
        "- **Network architecture**: The network above has two layers of trainable parameters. Can you do better with a deep network? Good architectures to try include:\n",
        "    - [conv-relu-pool]xN -> [affine]xM -> [softmax or SVM]\n",
        "    - [conv-relu-conv-relu-pool]xN -> [affine]xM -> [softmax or SVM]\n",
        "    - [batchnorm-relu-conv]xN -> [affine]xM -> [softmax or SVM]\n",
        "- **Global Average Pooling**: Instead of flattening and then having multiple affine layers, perform convolutions until your image gets small (7x7 or so) and then perform an average pooling operation to get to a 1x1 image picture (1, 1 , Filter#), which is then reshaped into a (Filter#) vector. This is used in [Google's Inception Network](https://arxiv.org/abs/1512.00567) (See Table 1 for their architecture).\n",
        "- **Regularization**: Add l2 weight regularization, or perhaps use Dropout.\n",
        "\n",
        "### Tips for training\n",
        "For each network architecture that you try, you should tune the learning rate and regularization strength. When doing this there are a couple important things to keep in mind:\n",
        "\n",
        "- If the parameters are working well, you should see improvement within a few hundred iterations\n",
        "- Remember the coarse-to-fine approach for hyperparameter tuning: start by testing a large range of hyperparameters for just a few training iterations to find the combinations of parameters that are working at all.\n",
        "- Once you have found some sets of parameters that seem to work, search more finely around these parameters. You may need to train for more epochs.\n",
        "- You should use the validation set for hyperparameter search, and save your test set for evaluating your architecture on the best parameters as selected by the validation set.\n",
        "\n",
        "### Going above and beyond\n",
        "If you are feeling adventurous there are many other features you can implement to try and improve your performance. You are **not required** to implement any of these; however they would be good things to try for extra credit.\n",
        "\n",
        "- Alternative update steps: For the assignment we implemented SGD+momentum, RMSprop, and Adam; you could try alternatives like AdaGrad or AdaDelta.\n",
        "- Alternative activation functions such as leaky ReLU, parametric ReLU, ELU, or MaxOut.\n",
        "- Model ensembles\n",
        "- Data augmentation\n",
        "- New Architectures\n",
        "  - [ResNets](https://arxiv.org/abs/1512.03385) where the input from the previous layer is added to the output.\n",
        "  - [DenseNets](https://arxiv.org/abs/1608.06993) where inputs into previous layers are concatenated together.\n",
        "  - [This blog has an in-depth overview](https://chatbotslife.com/resnets-highwaynets-and-densenets-oh-my-9bb15918ee32)\n",
        "\n",
        "If you do decide to implement something extra, clearly describe it in the \"Extra Credit Description\" cell below.\n",
        "\n",
        "### What we expect\n",
        "At the very least, you should be able to train a ConvNet that gets at least 70% accuracy on the validation set. This is just a lower bound - if you are careful it should be possible to get accuracies much higher than that! Extra credit points will be awarded for particularly high-scoring models or unique approaches.\n",
        "\n",
        "You should use the space below to experiment and train your network. \n",
        "\n",
        "Have fun and happy training!"
      ]
    },
    {
      "metadata": {
        "id": "O3wJT4kKlw6L",
        "colab_type": "code",
        "colab": {
          "autoexec": {
            "startup": false,
            "wait_interval": 0
          },
          "base_uri": "https://localhost:8080/",
          "height": 2244
        },
        "outputId": "50a95e5b-5cf3-4b2c-e280-eb18c779d765",
        "executionInfo": {
          "status": "ok",
          "timestamp": 1525335588411,
          "user_tz": -480,
          "elapsed": 297687,
          "user": {
            "displayName": "wen jiang",
            "photoUrl": "//lh3.googleusercontent.com/--ejERN2rgiw/AAAAAAAAAAI/AAAAAAAAAAs/nzh7g1WQ598/s50-c-k-no/photo.jpg",
            "userId": "115214062481391787575"
          }
        }
      },
      "cell_type": "code",
      "source": [
        "# Train your model here, and make sure the output of this cell is the accuracy of your best model on the \n",
        "# train, val, and test sets. Here's some code to get you started. The output of this cell should be the training\n",
        "# and validation accuracy on your best model (measured by validation accuracy).\n",
        "\n",
        "model = None\n",
        "loss_fn = None\n",
        "optimizer = None\n",
        "\n",
        "#Begin of my code\n",
        "# lrs = np.random.uniform(1, 30, size=10) * 1e-4\n",
        "lrs = np.random.uniform(0.9, 1.2, size=10) *  1e-3\n",
        "best_acc = 0\n",
        "best_lr = 0\n",
        "for lr in lrs:\n",
        "  gpu_dtype = torch.cuda.FloatTensor\n",
        "  model =  nn.Sequential(\n",
        "      nn.BatchNorm2d(3),\n",
        "      nn.Conv2d(3, 32, kernel_size=3, padding=1, stride=1),\n",
        "      nn.ReLU(inplace=True),\n",
        "      nn.Conv2d(32, 32, kernel_size=3, padding=1, stride=1),\n",
        "      nn.ReLU(inplace=True),\n",
        "      nn.MaxPool2d(kernel_size=2, stride=2), # Nx32x16x16\n",
        "      nn.Conv2d(32, 64, kernel_size=3, padding=1, stride=1),\n",
        "      nn.ReLU(inplace=True),\n",
        "      nn.Conv2d(64, 64, kernel_size=3, padding=1, stride=1),\n",
        "      nn.ReLU(inplace=True),\n",
        "      nn.MaxPool2d(kernel_size=2, stride=2), # Nx64x8x8\n",
        "      Flatten(),\n",
        "      nn.BatchNorm1d(64*8*8),\n",
        "      nn.Linear(64*8*8, 1024),\n",
        "      nn.ReLU(inplace=True), \n",
        "      #By experiments, too much fully connected layers seems to be of no use\n",
        "      nn.Linear(1024, 10)\n",
        "              ).type(gpu_dtype)\n",
        "  loss_fn = nn.CrossEntropyLoss().type(gpu_dtype)\n",
        "  optimizer = optim.Adam(model.parameters(), lr=lr, weight_decay=0)\n",
        "  train(model, loss_fn, optimizer, num_epochs=1)\n",
        "  check_accuracy(model, loader_train)\n",
        "  val_acc = check_accuracy(model, loader_val)\n",
        "  if val_acc > best_acc:\n",
        "    best_acc = val_acc\n",
        "    best_lr = lr\n",
        "  print('lr: %e'%lr,'val_acc: ', val_acc)\n",
        "  \n",
        "print('Best lr: %e'%best_lr, 'Best_acc: ', best_acc)\n",
        "#End of my code\n"
      ],
      "execution_count": 57,
      "outputs": [
        {
          "output_type": "stream",
          "text": [
            "Starting epoch 1 / 1\n",
            "t = 100, loss = 1.2740\n",
            "t = 200, loss = 1.1767\n",
            "t = 300, loss = 1.1013\n",
            "t = 400, loss = 0.8437\n",
            "t = 500, loss = 0.7563\n",
            "t = 600, loss = 0.9183\n",
            "t = 700, loss = 0.9039\n",
            "Checking accuracy on validation set\n",
            "Got 36819 / 49000 correct (75.14)\n",
            "Checking accuracy on validation set\n",
            "Got 696 / 1000 correct (69.60)\n",
            "lr: 9.889921e-04 val_acc:  0.696\n",
            "Starting epoch 1 / 1\n",
            "t = 100, loss = 1.3141\n",
            "t = 200, loss = 1.3146\n",
            "t = 300, loss = 1.0683\n",
            "t = 400, loss = 0.7460\n",
            "t = 500, loss = 0.7945\n",
            "t = 600, loss = 1.0198\n",
            "t = 700, loss = 1.0086\n",
            "Checking accuracy on validation set\n",
            "Got 36375 / 49000 correct (74.23)\n",
            "Checking accuracy on validation set\n",
            "Got 710 / 1000 correct (71.00)\n",
            "lr: 9.690535e-04 val_acc:  0.71\n",
            "Starting epoch 1 / 1\n",
            "t = 100, loss = 1.3648\n",
            "t = 200, loss = 1.2405\n",
            "t = 300, loss = 1.1697\n",
            "t = 400, loss = 0.8620\n",
            "t = 500, loss = 0.8018\n",
            "t = 600, loss = 0.9437\n",
            "t = 700, loss = 0.9549\n",
            "Checking accuracy on validation set\n",
            "Got 36045 / 49000 correct (73.56)\n",
            "Checking accuracy on validation set\n",
            "Got 698 / 1000 correct (69.80)\n",
            "lr: 1.071078e-03 val_acc:  0.698\n",
            "Starting epoch 1 / 1\n",
            "t = 100, loss = 1.3753\n",
            "t = 200, loss = 1.3386\n",
            "t = 300, loss = 1.2039\n",
            "t = 400, loss = 0.8277\n",
            "t = 500, loss = 0.9494\n",
            "t = 600, loss = 0.8865\n",
            "t = 700, loss = 0.9246\n",
            "Checking accuracy on validation set\n",
            "Got 34557 / 49000 correct (70.52)\n",
            "Checking accuracy on validation set\n",
            "Got 659 / 1000 correct (65.90)\n",
            "lr: 1.196220e-03 val_acc:  0.659\n",
            "Starting epoch 1 / 1\n",
            "t = 100, loss = 1.2974\n",
            "t = 200, loss = 1.3459\n",
            "t = 300, loss = 1.0648\n",
            "t = 400, loss = 0.7561\n",
            "t = 500, loss = 0.8196\n",
            "t = 600, loss = 0.9089\n",
            "t = 700, loss = 0.9333\n",
            "Checking accuracy on validation set\n",
            "Got 35916 / 49000 correct (73.30)\n",
            "Checking accuracy on validation set\n",
            "Got 692 / 1000 correct (69.20)\n",
            "lr: 1.172840e-03 val_acc:  0.692\n",
            "Starting epoch 1 / 1\n",
            "t = 100, loss = 1.3408\n",
            "t = 200, loss = 1.4166\n",
            "t = 300, loss = 1.2129\n",
            "t = 400, loss = 0.7900\n",
            "t = 500, loss = 0.7990\n",
            "t = 600, loss = 1.0661\n",
            "t = 700, loss = 0.9012\n",
            "Checking accuracy on validation set\n",
            "Got 34194 / 49000 correct (69.78)\n",
            "Checking accuracy on validation set\n",
            "Got 652 / 1000 correct (65.20)\n",
            "lr: 1.019441e-03 val_acc:  0.652\n",
            "Starting epoch 1 / 1\n",
            "t = 100, loss = 1.3601\n",
            "t = 200, loss = 1.1937\n",
            "t = 300, loss = 1.2177\n",
            "t = 400, loss = 0.8178\n",
            "t = 500, loss = 0.8944\n",
            "t = 600, loss = 0.9921\n",
            "t = 700, loss = 1.0662\n",
            "Checking accuracy on validation set\n",
            "Got 32890 / 49000 correct (67.12)\n",
            "Checking accuracy on validation set\n",
            "Got 625 / 1000 correct (62.50)\n",
            "lr: 9.797148e-04 val_acc:  0.625\n",
            "Starting epoch 1 / 1\n",
            "t = 100, loss = 1.3196\n",
            "t = 200, loss = 1.3124\n",
            "t = 300, loss = 1.1399\n",
            "t = 400, loss = 0.8020\n",
            "t = 500, loss = 0.8697\n"
          ],
          "name": "stdout"
        },
        {
          "output_type": "stream",
          "text": [
            "t = 600, loss = 0.9634\n",
            "t = 700, loss = 0.9846\n",
            "Checking accuracy on validation set\n",
            "Got 35722 / 49000 correct (72.90)\n",
            "Checking accuracy on validation set\n",
            "Got 694 / 1000 correct (69.40)\n",
            "lr: 1.096068e-03 val_acc:  0.694\n",
            "Starting epoch 1 / 1\n",
            "t = 100, loss = 1.2662\n",
            "t = 200, loss = 1.2627\n",
            "t = 300, loss = 1.0884\n",
            "t = 400, loss = 0.7851\n",
            "t = 500, loss = 0.9504\n",
            "t = 600, loss = 0.8154\n",
            "t = 700, loss = 0.9101\n",
            "Checking accuracy on validation set\n",
            "Got 36780 / 49000 correct (75.06)\n",
            "Checking accuracy on validation set\n",
            "Got 698 / 1000 correct (69.80)\n",
            "lr: 1.025500e-03 val_acc:  0.698\n",
            "Starting epoch 1 / 1\n",
            "t = 100, loss = 1.2693\n",
            "t = 200, loss = 1.2661\n",
            "t = 300, loss = 1.1505\n",
            "t = 400, loss = 0.7789\n",
            "t = 500, loss = 0.9808\n",
            "t = 600, loss = 0.9121\n",
            "t = 700, loss = 0.8809\n",
            "Checking accuracy on validation set\n",
            "Got 35143 / 49000 correct (71.72)\n",
            "Checking accuracy on validation set\n",
            "Got 685 / 1000 correct (68.50)\n",
            "lr: 9.508391e-04 val_acc:  0.685\n",
            "Best lr: 9.690535e-04 Best_acc:  0.71\n"
          ],
          "name": "stdout"
        }
      ]
    },
    {
      "metadata": {
        "id": "H60elgGJGVbX",
        "colab_type": "code",
        "colab": {
          "autoexec": {
            "startup": false,
            "wait_interval": 0
          },
          "base_uri": "https://localhost:8080/",
          "height": 1462
        },
        "outputId": "7aec30e9-2bd9-4400-bb53-c9ae0dd0ff19",
        "executionInfo": {
          "status": "ok",
          "timestamp": 1525336124449,
          "user_tz": -480,
          "elapsed": 197054,
          "user": {
            "displayName": "wen jiang",
            "photoUrl": "//lh3.googleusercontent.com/--ejERN2rgiw/AAAAAAAAAAI/AAAAAAAAAAs/nzh7g1WQ598/s50-c-k-no/photo.jpg",
            "userId": "115214062481391787575"
          }
        }
      },
      "cell_type": "code",
      "source": [
        "tuned_model = nn.Sequential(\n",
        "      nn.BatchNorm2d(3),\n",
        "      nn.Conv2d(3, 32, kernel_size=3, padding=1, stride=1),\n",
        "      nn.ReLU(inplace=True),\n",
        "      nn.Conv2d(32, 32, kernel_size=3, padding=1, stride=1),\n",
        "      nn.ReLU(inplace=True),\n",
        "      nn.MaxPool2d(kernel_size=2, stride=2), # Nx32x16x16\n",
        "      nn.Conv2d(32, 64, kernel_size=3, padding=1, stride=1),\n",
        "      nn.ReLU(inplace=True),\n",
        "      nn.Conv2d(64, 64, kernel_size=3, padding=1, stride=1),\n",
        "      nn.ReLU(inplace=True),\n",
        "      nn.MaxPool2d(kernel_size=2, stride=2), # Nx64x8x8\n",
        "      Flatten(),\n",
        "      nn.BatchNorm1d(64*8*8),\n",
        "      nn.Linear(64*8*8, 1024),\n",
        "      nn.ReLU(inplace=True), \n",
        "      #By experiments, too much fully connected layers seems to be of no use\n",
        "      nn.Linear(1024, 10)\n",
        "              ).type(gpu_dtype)\n",
        "loss_fn = nn.CrossEntropyLoss().type(gpu_dtype)\n",
        "optimizer = optim.Adam(tuned_model.parameters(), lr=0.992e-3, weight_decay=0)\n",
        "train(tuned_model, loss_fn, optimizer, num_epochs=10)\n",
        "check_accuracy(tuned_model, loader_train)\n",
        "check_accuracy(tuned_model, loader_val)"
      ],
      "execution_count": 58,
      "outputs": [
        {
          "output_type": "stream",
          "text": [
            "Starting epoch 1 / 10\n",
            "t = 100, loss = 1.3710\n",
            "t = 200, loss = 1.1384\n",
            "t = 300, loss = 1.0495\n",
            "t = 400, loss = 0.8144\n",
            "t = 500, loss = 0.8001\n",
            "t = 600, loss = 0.9858\n",
            "t = 700, loss = 0.9353\n",
            "Starting epoch 2 / 10\n",
            "t = 100, loss = 0.6604\n",
            "t = 200, loss = 0.6021\n",
            "t = 300, loss = 0.7273\n",
            "t = 400, loss = 0.6053\n",
            "t = 500, loss = 0.5637\n",
            "t = 600, loss = 0.7192\n",
            "t = 700, loss = 0.6153\n",
            "Starting epoch 3 / 10\n",
            "t = 100, loss = 0.4153\n",
            "t = 200, loss = 0.4498\n",
            "t = 300, loss = 0.4452\n",
            "t = 400, loss = 0.4041\n",
            "t = 500, loss = 0.3801\n",
            "t = 600, loss = 0.4011\n",
            "t = 700, loss = 0.2760\n",
            "Starting epoch 4 / 10\n",
            "t = 100, loss = 0.2125\n",
            "t = 200, loss = 0.2607\n",
            "t = 300, loss = 0.3492\n",
            "t = 400, loss = 0.2645\n",
            "t = 500, loss = 0.2784\n",
            "t = 600, loss = 0.2048\n",
            "t = 700, loss = 0.2243\n",
            "Starting epoch 5 / 10\n",
            "t = 100, loss = 0.1805\n",
            "t = 200, loss = 0.2058\n",
            "t = 300, loss = 0.3071\n",
            "t = 400, loss = 0.1481\n",
            "t = 500, loss = 0.2173\n",
            "t = 600, loss = 0.1287\n",
            "t = 700, loss = 0.1367\n",
            "Starting epoch 6 / 10\n",
            "t = 100, loss = 0.1787\n",
            "t = 200, loss = 0.0236\n",
            "t = 300, loss = 0.1683\n",
            "t = 400, loss = 0.0447\n",
            "t = 500, loss = 0.0385\n",
            "t = 600, loss = 0.0589\n",
            "t = 700, loss = 0.0811\n",
            "Starting epoch 7 / 10\n",
            "t = 100, loss = 0.0365\n",
            "t = 200, loss = 0.0373\n",
            "t = 300, loss = 0.0910\n",
            "t = 400, loss = 0.0527\n",
            "t = 500, loss = 0.0656\n",
            "t = 600, loss = 0.0393\n",
            "t = 700, loss = 0.0659\n",
            "Starting epoch 8 / 10\n",
            "t = 100, loss = 0.1062\n",
            "t = 200, loss = 0.1096\n",
            "t = 300, loss = 0.0529\n",
            "t = 400, loss = 0.0352\n",
            "t = 500, loss = 0.3423\n",
            "t = 600, loss = 0.1659\n",
            "t = 700, loss = 0.0384\n",
            "Starting epoch 9 / 10\n",
            "t = 100, loss = 0.0897\n",
            "t = 200, loss = 0.0675\n",
            "t = 300, loss = 0.0606\n",
            "t = 400, loss = 0.0340\n",
            "t = 500, loss = 0.0445\n",
            "t = 600, loss = 0.1166\n",
            "t = 700, loss = 0.0791\n",
            "Starting epoch 10 / 10\n",
            "t = 100, loss = 0.0221\n",
            "t = 200, loss = 0.0101\n",
            "t = 300, loss = 0.1724\n",
            "t = 400, loss = 0.0071\n",
            "t = 500, loss = 0.0497\n",
            "t = 600, loss = 0.0312\n",
            "t = 700, loss = 0.0266\n",
            "Checking accuracy on validation set\n",
            "Got 47294 / 49000 correct (96.52)\n",
            "Checking accuracy on validation set\n",
            "Got 757 / 1000 correct (75.70)\n"
          ],
          "name": "stdout"
        },
        {
          "output_type": "execute_result",
          "data": {
            "text/plain": [
              "0.757"
            ]
          },
          "metadata": {
            "tags": []
          },
          "execution_count": 58
        }
      ]
    },
    {
      "metadata": {
        "id": "Dr_dT8LY1k3F",
        "colab_type": "text"
      },
      "cell_type": "markdown",
      "source": [
        "###Set of hypter-parameters\n",
        "\n",
        "```\n",
        "lr = 1e-3, reg = 0 : 65.70%\n",
        "lr = 6.13e-4, reg = 0: 63.5%\n",
        "lr:  0.0010909236232780316 val_acc:  0.665\n",
        "lr:  0.0008322693912372525 Best_acc:  0.665\n",
        "lr: 0.992e-3 val_acc: 0.723\n",
        "```"
      ]
    },
    {
      "metadata": {
        "id": "UJg1rADGlw6Q",
        "colab_type": "text"
      },
      "cell_type": "markdown",
      "source": [
        "### Describe what you did \n",
        "\n",
        "In the cell below you should write an explanation of what you did, any additional features that you implemented, and any visualizations or graphs that you make in the process of training and evaluating your network."
      ]
    },
    {
      "metadata": {
        "id": "ZKPyQEhElw6Q",
        "colab_type": "text"
      },
      "cell_type": "markdown",
      "source": [
        "Tell us here!\n",
        "I tried a set of architecture.\n",
        "Firstly I randomly choose many combination of CNNs, which reach 67% accuracy.\n",
        "\n",
        "After reviewing class notes, I use bn-[conv-relu-conv-relu-pool]*3-[affine-relu]*2-affine with 32 filters on each layer\n",
        "But later I find it's useful to use growing number of filters.\n",
        "\n",
        "Besides, I find 32-64-128 filters size is not slightly better than 32-64 filters.\n",
        "So I finnaly chose bn-[conv-relu-conv-relu-pool]*2-[affine-relu]*2-affine with 32-64 filters on first and second layer"
      ]
    },
    {
      "metadata": {
        "id": "CeboxNudlw6R",
        "colab_type": "text"
      },
      "cell_type": "markdown",
      "source": [
        "## Test set -- run this only once\n",
        "\n",
        "Now that we've gotten a result we're happy with, we test our final model on the test set (which you should store in best_model).  This would be the score we would achieve on a competition. Think about how this compares to your validation set accuracy."
      ]
    },
    {
      "metadata": {
        "id": "lwvZBCrElw6S",
        "colab_type": "code",
        "colab": {
          "autoexec": {
            "startup": false,
            "wait_interval": 0
          },
          "base_uri": "https://localhost:8080/",
          "height": 68
        },
        "outputId": "22794c6f-20fa-4dda-c47f-22ed2e9e94fb",
        "executionInfo": {
          "status": "ok",
          "timestamp": 1525336225155,
          "user_tz": -480,
          "elapsed": 3035,
          "user": {
            "displayName": "wen jiang",
            "photoUrl": "//lh3.googleusercontent.com/--ejERN2rgiw/AAAAAAAAAAI/AAAAAAAAAAs/nzh7g1WQ598/s50-c-k-no/photo.jpg",
            "userId": "115214062481391787575"
          }
        }
      },
      "cell_type": "code",
      "source": [
        "best_model = tuned_model\n",
        "check_accuracy(best_model, loader_test)"
      ],
      "execution_count": 59,
      "outputs": [
        {
          "output_type": "stream",
          "text": [
            "Checking accuracy on test set\n",
            "Got 7395 / 10000 correct (73.95)\n"
          ],
          "name": "stdout"
        },
        {
          "output_type": "execute_result",
          "data": {
            "text/plain": [
              "0.7395"
            ]
          },
          "metadata": {
            "tags": []
          },
          "execution_count": 59
        }
      ]
    },
    {
      "metadata": {
        "id": "PA7KN5Wklw6U",
        "colab_type": "text"
      },
      "cell_type": "markdown",
      "source": [
        "## Going further with PyTorch\n",
        "\n",
        "The next assignment will make heavy use of PyTorch. You might also find it useful for your projects. \n",
        "\n",
        "Here's a nice tutorial by Justin Johnson that shows off some of PyTorch's features, like dynamic graphs and custom NN modules: http://pytorch.org/tutorials/beginner/pytorch_with_examples.html\n",
        "\n",
        "If you're interested in reinforcement learning for your final project, this is a good (more advanced) DQN tutorial in PyTorch: http://pytorch.org/tutorials/intermediate/reinforcement_q_learning.html"
      ]
    }
  ]
}